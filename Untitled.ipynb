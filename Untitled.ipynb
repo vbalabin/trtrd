{
 "cells": [
  {
   "cell_type": "code",
   "execution_count": 1,
   "id": "342b312e",
   "metadata": {},
   "outputs": [],
   "source": [
    "from jsondata import load_json_to_dict\n",
    "from datetime import datetime\n",
    "import pandas as pd\n",
    "\n",
    "def convert_json_to_dicts(path):\n",
    "    klines = list()\n",
    "    for kl in load_json_to_dict(path):\n",
    "        kd = {\n",
    "            \"DateTime\": datetime.fromtimestamp(kl[0] // 1000),\n",
    "            \"Open\": kl[1],\n",
    "            \"High\": kl[2],\n",
    "            \"Low\": kl[3],\n",
    "            \"Close\": kl[4],\n",
    "            \"Volume\": kl[5],\n",
    "        }\n",
    "        klines.append(kd)\n",
    "    return klines"
   ]
  },
  {
   "cell_type": "code",
   "execution_count": 2,
   "id": "21db3229",
   "metadata": {},
   "outputs": [],
   "source": [
    "df = pd.DataFrame(convert_json_to_dicts(\"klines.json\"))\n",
    "\n",
    "def create_DEMA(df, time_period, column):\n",
    "    EMA = df[column].ewm(span=time_period, adjust=False).mean()\n",
    "    DEMA = 2 * EMA - EMA.ewm(span=time_period, adjust=False).mean()\n",
    "    return DEMA\n"
   ]
  },
  {
   "cell_type": "code",
   "execution_count": null,
   "id": "8dbf5b85",
   "metadata": {},
   "outputs": [],
   "source": []
  }
 ],
 "metadata": {
  "kernelspec": {
   "display_name": "internet_env",
   "language": "python",
   "name": "internet_env"
  },
  "language_info": {
   "codemirror_mode": {
    "name": "ipython",
    "version": 3
   },
   "file_extension": ".py",
   "mimetype": "text/x-python",
   "name": "python",
   "nbconvert_exporter": "python",
   "pygments_lexer": "ipython3",
   "version": "3.8.10"
  }
 },
 "nbformat": 4,
 "nbformat_minor": 5
}
